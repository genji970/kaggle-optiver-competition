{
 "cells": [
  {
   "cell_type": "code",
   "execution_count": 1,
   "id": "29eca25d",
   "metadata": {
    "_cell_guid": "b1076dfc-b9ad-4769-8c92-a6c4dae69d19",
    "_uuid": "8f2839f25d086af736a60e9eeb907d3b93b6e0e5",
    "execution": {
     "iopub.execute_input": "2023-12-20T11:53:42.541780Z",
     "iopub.status.busy": "2023-12-20T11:53:42.541358Z",
     "iopub.status.idle": "2023-12-20T11:53:46.186364Z",
     "shell.execute_reply": "2023-12-20T11:53:46.185384Z"
    },
    "papermill": {
     "duration": 3.656082,
     "end_time": "2023-12-20T11:53:46.188794",
     "exception": false,
     "start_time": "2023-12-20T11:53:42.532712",
     "status": "completed"
    },
    "tags": []
   },
   "outputs": [],
   "source": [
    "import torch\n",
    "from torch import nn\n",
    "import torch.optim as optim"
   ]
  },
  {
   "cell_type": "code",
   "execution_count": 2,
   "id": "94be7328",
   "metadata": {
    "execution": {
     "iopub.execute_input": "2023-12-20T11:53:46.203790Z",
     "iopub.status.busy": "2023-12-20T11:53:46.203370Z",
     "iopub.status.idle": "2023-12-20T11:53:51.406114Z",
     "shell.execute_reply": "2023-12-20T11:53:51.405292Z"
    },
    "papermill": {
     "duration": 5.212848,
     "end_time": "2023-12-20T11:53:51.408519",
     "exception": false,
     "start_time": "2023-12-20T11:53:46.195671",
     "status": "completed"
    },
    "tags": []
   },
   "outputs": [
    {
     "name": "stderr",
     "output_type": "stream",
     "text": [
      "/opt/conda/lib/python3.10/site-packages/scipy/__init__.py:146: UserWarning: A NumPy version >=1.16.5 and <1.23.0 is required for this version of SciPy (detected version 1.24.3\n",
      "  warnings.warn(f\"A NumPy version >={np_minversion} and <{np_maxversion}\"\n"
     ]
    }
   ],
   "source": [
    "import os\n",
    "import pandas as pd\n",
    "import numpy as np\n",
    "import matplotlib.pyplot as plt\n",
    "import lightgbm as lgbm\n",
    "%matplotlib inline"
   ]
  },
  {
   "cell_type": "code",
   "execution_count": 3,
   "id": "1dc11fe7",
   "metadata": {
    "execution": {
     "iopub.execute_input": "2023-12-20T11:53:51.424697Z",
     "iopub.status.busy": "2023-12-20T11:53:51.424343Z",
     "iopub.status.idle": "2023-12-20T11:53:51.428638Z",
     "shell.execute_reply": "2023-12-20T11:53:51.427775Z"
    },
    "papermill": {
     "duration": 0.014369,
     "end_time": "2023-12-20T11:53:51.430632",
     "exception": false,
     "start_time": "2023-12-20T11:53:51.416263",
     "status": "completed"
    },
    "tags": []
   },
   "outputs": [],
   "source": [
    "import warnings\n",
    "warnings.filterwarnings(\"ignore\")"
   ]
  },
  {
   "cell_type": "code",
   "execution_count": 4,
   "id": "6e223bd0",
   "metadata": {
    "execution": {
     "iopub.execute_input": "2023-12-20T11:53:51.447355Z",
     "iopub.status.busy": "2023-12-20T11:53:51.446607Z",
     "iopub.status.idle": "2023-12-20T11:54:10.858351Z",
     "shell.execute_reply": "2023-12-20T11:54:10.857536Z"
    },
    "papermill": {
     "duration": 19.42255,
     "end_time": "2023-12-20T11:54:10.860633",
     "exception": false,
     "start_time": "2023-12-20T11:53:51.438083",
     "status": "completed"
    },
    "tags": []
   },
   "outputs": [],
   "source": [
    "df_train = pd.read_csv('../input/optiver-trading-at-the-close/train.csv')"
   ]
  },
  {
   "cell_type": "code",
   "execution_count": 5,
   "id": "13e32af3",
   "metadata": {
    "execution": {
     "iopub.execute_input": "2023-12-20T11:54:10.875521Z",
     "iopub.status.busy": "2023-12-20T11:54:10.875186Z",
     "iopub.status.idle": "2023-12-20T11:54:10.887715Z",
     "shell.execute_reply": "2023-12-20T11:54:10.886886Z"
    },
    "papermill": {
     "duration": 0.022295,
     "end_time": "2023-12-20T11:54:10.889792",
     "exception": false,
     "start_time": "2023-12-20T11:54:10.867497",
     "status": "completed"
    },
    "tags": []
   },
   "outputs": [],
   "source": [
    "def memory_decreasing(df_train):\n",
    "    start_mem = df_train.memory_usage().sum() / 1024**2\n",
    "\n",
    "    for col in list(df_train):\n",
    "        col_type = df_train[col].dtype\n",
    "\n",
    "        if col_type != object:\n",
    "            c_min = df_train[col].min()\n",
    "            c_max = df_train[col].max()\n",
    "            if str(col_type)[:3] == 'int':\n",
    "                if c_min > np.iinfo(np.int8).min and c_max < np.iinfo(np.int8).max:\n",
    "                    if c_min >= 0:\n",
    "                        df_train[col] = df_train[col].astype(np.uint8)\n",
    "                    else:\n",
    "                        df_train[col] = df_train[col].astype(np.int8)\n",
    "                elif c_min > np.iinfo(np.int16).min and c_max < np.iinfo(np.int16).max:\n",
    "                    if c_min >= 0:\n",
    "                        df_train[col] = df_train[col].astype(np.uint16)\n",
    "                    else:\n",
    "                        df_train[col] = df_train[col].astype(np.int16)\n",
    "                elif c_min > np.iinfo(np.int32).min and c_max < np.iinfo(np.int32).max:\n",
    "                    if c_min >= 0:\n",
    "                        df_train[col] = df_train[col].astype(np.uint32)\n",
    "                    else:\n",
    "                        df_train[col] = df_train[col].astype(np.int32)\n",
    "                elif c_min > np.iinfo(np.int64).min and c_max < np.iinfo(np.int64).max:\n",
    "                    if c_min >= 0:\n",
    "                        df_train[col] = df_train[col].astype(np.uint64)\n",
    "                    else:\n",
    "                        df_train[col] = df_train[col].astype(np.int64)\n",
    "            else:\n",
    "                if c_min > np.finfo(np.float32).min and c_max < np.finfo(np.float32).max:\n",
    "                    df_train[col] = df_train[col].astype(np.float32)\n",
    "                else:\n",
    "                    df_train[col] = df_train[col].astype(np.float64)\n",
    "\n",
    "    end_mem = df_train.memory_usage().sum() / 1024**2\n",
    "    \n",
    "    return df_train"
   ]
  },
  {
   "cell_type": "code",
   "execution_count": 6,
   "id": "91d2facc",
   "metadata": {
    "execution": {
     "iopub.execute_input": "2023-12-20T11:54:10.904041Z",
     "iopub.status.busy": "2023-12-20T11:54:10.903774Z",
     "iopub.status.idle": "2023-12-20T11:54:11.526698Z",
     "shell.execute_reply": "2023-12-20T11:54:11.525648Z"
    },
    "papermill": {
     "duration": 0.632788,
     "end_time": "2023-12-20T11:54:11.529265",
     "exception": false,
     "start_time": "2023-12-20T11:54:10.896477",
     "status": "completed"
    },
    "tags": []
   },
   "outputs": [],
   "source": [
    "df_train = memory_decreasing(df_train)"
   ]
  },
  {
   "cell_type": "markdown",
   "id": "04031878",
   "metadata": {
    "papermill": {
     "duration": 0.006866,
     "end_time": "2023-12-20T11:54:11.543069",
     "exception": false,
     "start_time": "2023-12-20T11:54:11.536203",
     "status": "completed"
    },
    "tags": []
   },
   "source": [
    "df_train"
   ]
  },
  {
   "cell_type": "code",
   "execution_count": 7,
   "id": "679da588",
   "metadata": {
    "execution": {
     "iopub.execute_input": "2023-12-20T11:54:11.557814Z",
     "iopub.status.busy": "2023-12-20T11:54:11.557232Z",
     "iopub.status.idle": "2023-12-20T11:54:11.577545Z",
     "shell.execute_reply": "2023-12-20T11:54:11.576664Z"
    },
    "papermill": {
     "duration": 0.029772,
     "end_time": "2023-12-20T11:54:11.579391",
     "exception": false,
     "start_time": "2023-12-20T11:54:11.549619",
     "status": "completed"
    },
    "tags": []
   },
   "outputs": [],
   "source": [
    "def train(df , x):\n",
    "\n",
    "    \n",
    "    df = df.drop(['row_id','time_id','far_price','near_price'] , axis = 1)\n",
    "    df = df.dropna(axis = 0)\n",
    "    df['pressure'] = df['imbalance_size']*df['imbalance_buy_sell_flag']\n",
    "    df['bid_ask_size_gap'] = (df['bid_size'] - df['ask_size']) / (df['bid_size'] + df['ask_size'] + 0.000001)\n",
    "    df['power0'] = (df['matched_size'] + df['pressure']) / (df['matched_size'] + abs(df['pressure']) + 0.000001)\n",
    "    df['power1'] = (df['matched_size'] + df['pressure'] + df['bid_size'] - df['ask_size']) / (df['matched_size'] + df['pressure'] + df['bid_size'] + df['ask_size'] + 0.000001)\n",
    "\n",
    "    df = df.drop(['imbalance_size','imbalance_buy_sell_flag'] , axis = 1)\n",
    "    \n",
    "    #tiem series\n",
    "    column = ['reference_price' ,'ask_size','bid_size','pressure','ask_price','bid_price','matched_size']\n",
    "    \n",
    "    shift_list = []\n",
    "    for i in range(1, x+1):\n",
    "        shift_list.append(i)\n",
    "    \n",
    "    for c in column:\n",
    "        gv = df[[\"stock_id\", \"date_id\", c]].groupby([\"stock_id\",\"date_id\"])\n",
    "        for s in shift_list:\n",
    "            df[c + '_' + str(s)] = gv.shift(s)\n",
    "        df[c + '_' + str(0)] = df[c]\n",
    "        df = df.drop([c] , axis = 1)\n",
    "    \n",
    "    df = df.dropna(axis = 0)\n",
    "    \n",
    "    # feaeture setting\n",
    "    \n",
    "    column1 = ['ask_size','ask_price']\n",
    "    for c in column1:\n",
    "        for i in range(0,x+1):\n",
    "            df['neg' + '_' + c + '_' + str(i)] = -df[c + '_' + str(i)]\n",
    "            df = df.drop([c + '_' + str(i)] , axis = 1)\n",
    "    for c in column1:\n",
    "        for i in range(0,x+1):\n",
    "            df[c + '_' + str(i)] = df['neg' + '_' + c + '_' + str(i)]\n",
    "            df = df.drop(['neg' + '_' + c + '_' + str(i)], axis = 1)\n",
    "    \n",
    "    for i in range(0,x):\n",
    "        j = i+1\n",
    "        df['reference_price_deri_' + str(i)] = df['reference_price_' + str(i)] - df['reference_price_' + str(j)]\n",
    "    for i in range(0, x+1):\n",
    "        df = df.drop(['reference_price_' + str(i)] , axis = 1)\n",
    "    \n",
    "    for i in range(0,x):\n",
    "        df['reference_price_' + str(i)] = df['reference_price_deri_' + str(i)]\n",
    "    for i in range(0,x):\n",
    "        df = df.drop(['reference_price_deri_' + str(i)] , axis = 1)\n",
    "        \n",
    "    df = df.dropna(axis = 0)\n",
    "    \n",
    "    #feature generating\n",
    "    \n",
    "    split_column1 = ['ask_size','bid_size','pressure']\n",
    "    \n",
    "    day = []\n",
    "    for i in range(0, x+1):\n",
    "        day.append(i)\n",
    "    \n",
    "    for i in range(0, len(split_column1)):\n",
    "        for j in range(0, len(split_column1)):\n",
    "            for d in day:\n",
    "                if i < j and i != j:\n",
    "                    df[split_column1[i] + '_' + split_column1[j] + '_' + str(d)] = df[split_column1[i] + '_' + str(d)] + df[split_column1[j] + '_' + str(d)]\n",
    "                    \n",
    "    \n",
    "    for i in range(0,6):\n",
    "        df['sign_' + str(i)] = df['reference_price_' + str(i)]*df['matched_size_' + str(i)]\n",
    "        df = df.drop(['matched_size_' + str(i)] , axis = 1)\n",
    "    \n",
    "    df = df.drop(['date_id' , 'wap'] , axis = 1)\n",
    "    \n",
    "    df = df.dropna(axis = 0)\n",
    "\n",
    "    \n",
    "    # 아래부터\n",
    "    val_y = df['target']\n",
    "    df = df.drop(['target'] , axis = 1)\n",
    "    # 위까지 test와 다른 코드\n",
    "\n",
    "    return df,val_y"
   ]
  },
  {
   "cell_type": "code",
   "execution_count": 8,
   "id": "b553bc05",
   "metadata": {
    "execution": {
     "iopub.execute_input": "2023-12-20T11:54:11.593886Z",
     "iopub.status.busy": "2023-12-20T11:54:11.593588Z",
     "iopub.status.idle": "2023-12-20T11:55:03.936702Z",
     "shell.execute_reply": "2023-12-20T11:55:03.935880Z"
    },
    "papermill": {
     "duration": 52.353138,
     "end_time": "2023-12-20T11:55:03.939137",
     "exception": false,
     "start_time": "2023-12-20T11:54:11.585999",
     "status": "completed"
    },
    "tags": []
   },
   "outputs": [],
   "source": [
    "df_x, val_y = train(df_train , 6)"
   ]
  },
  {
   "cell_type": "code",
   "execution_count": 9,
   "id": "922802e9",
   "metadata": {
    "execution": {
     "iopub.execute_input": "2023-12-20T11:55:03.954075Z",
     "iopub.status.busy": "2023-12-20T11:55:03.953762Z",
     "iopub.status.idle": "2023-12-20T11:55:03.957628Z",
     "shell.execute_reply": "2023-12-20T11:55:03.956795Z"
    },
    "papermill": {
     "duration": 0.01333,
     "end_time": "2023-12-20T11:55:03.959486",
     "exception": false,
     "start_time": "2023-12-20T11:55:03.946156",
     "status": "completed"
    },
    "tags": []
   },
   "outputs": [],
   "source": [
    "#df_x.columns[0:]"
   ]
  },
  {
   "cell_type": "code",
   "execution_count": 10,
   "id": "efd4aac6",
   "metadata": {
    "execution": {
     "iopub.execute_input": "2023-12-20T11:55:03.973773Z",
     "iopub.status.busy": "2023-12-20T11:55:03.973282Z",
     "iopub.status.idle": "2023-12-20T11:55:03.982462Z",
     "shell.execute_reply": "2023-12-20T11:55:03.981726Z"
    },
    "papermill": {
     "duration": 0.018324,
     "end_time": "2023-12-20T11:55:03.984254",
     "exception": false,
     "start_time": "2023-12-20T11:55:03.965930",
     "status": "completed"
    },
    "tags": []
   },
   "outputs": [],
   "source": [
    "df_x5_column = ['stock_id', 'seconds_in_bucket', 'bid_ask_size_gap', 'power0', 'power1',\n",
    "       'bid_size_1', 'bid_size_2', 'bid_size_3', 'bid_size_4', \n",
    "       'bid_size_6', 'bid_size_0', 'pressure_1', 'pressure_2', 'pressure_3',\n",
    "       'pressure_4',  'pressure_6', 'pressure_0', 'bid_price_1',\n",
    "       'bid_price_2', 'bid_price_3', 'bid_price_4', \n",
    "       'bid_price_6', 'bid_price_0', 'matched_size_6', 'ask_size_0',\n",
    "       'ask_size_1', 'ask_size_2', 'ask_size_3', 'ask_size_4',\n",
    "       'ask_size_6', 'ask_price_0', 'ask_price_1', 'ask_price_2',\n",
    "       'ask_price_3', 'ask_price_4', 'ask_price_6',\n",
    "       'reference_price_0', 'reference_price_1', 'reference_price_2',\n",
    "       'reference_price_3', 'reference_price_4', \n",
    "       'ask_size_bid_size_0', 'ask_size_bid_size_1', 'ask_size_bid_size_2',\n",
    "       'ask_size_bid_size_3', 'ask_size_bid_size_4', \n",
    "       'ask_size_bid_size_6', 'ask_size_pressure_0', 'ask_size_pressure_1',\n",
    "       'ask_size_pressure_2', 'ask_size_pressure_3', 'ask_size_pressure_4',\n",
    "        'ask_size_pressure_6', 'bid_size_pressure_0',\n",
    "       'bid_size_pressure_1', 'bid_size_pressure_2', 'bid_size_pressure_3',\n",
    "       'bid_size_pressure_4',  'bid_size_pressure_6',\n",
    "         'sign_0', 'sign_1', 'sign_2', 'sign_3',\n",
    "       'sign_4']\n",
    "\n",
    "df_x4_column = ['stock_id', 'seconds_in_bucket', 'bid_ask_size_gap', 'power0', 'power1',\n",
    "       'bid_size_1', 'bid_size_2', 'bid_size_3',  'bid_size_5',\n",
    "       'bid_size_6', 'bid_size_0', 'pressure_1', 'pressure_2', 'pressure_3',\n",
    "        'pressure_5', 'pressure_6', 'pressure_0', 'bid_price_1',\n",
    "       'bid_price_2', 'bid_price_3',  'bid_price_5',\n",
    "       'bid_price_6', 'bid_price_0', 'matched_size_6', 'ask_size_0',\n",
    "       'ask_size_1', 'ask_size_2', 'ask_size_3',  'ask_size_5',\n",
    "       'ask_size_6', 'ask_price_0', 'ask_price_1', 'ask_price_2',\n",
    "       'ask_price_3',  'ask_price_5', 'ask_price_6',\n",
    "       'reference_price_0', 'reference_price_1', 'reference_price_2',\n",
    "       'reference_price_3',  'reference_price_5',\n",
    "       'ask_size_bid_size_0', 'ask_size_bid_size_1', 'ask_size_bid_size_2',\n",
    "       'ask_size_bid_size_3',  'ask_size_bid_size_5',\n",
    "       'ask_size_bid_size_6', 'ask_size_pressure_0', 'ask_size_pressure_1',\n",
    "       'ask_size_pressure_2', 'ask_size_pressure_3', \n",
    "       'ask_size_pressure_5', 'ask_size_pressure_6', 'bid_size_pressure_0',\n",
    "       'bid_size_pressure_1', 'bid_size_pressure_2', 'bid_size_pressure_3',\n",
    "        'bid_size_pressure_5', 'bid_size_pressure_6',\n",
    "         'sign_0', 'sign_1', 'sign_2', 'sign_3',\n",
    "        'sign_5']"
   ]
  },
  {
   "cell_type": "code",
   "execution_count": 11,
   "id": "ea96e08f",
   "metadata": {
    "execution": {
     "iopub.execute_input": "2023-12-20T11:55:03.998306Z",
     "iopub.status.busy": "2023-12-20T11:55:03.998060Z",
     "iopub.status.idle": "2023-12-20T11:55:04.809300Z",
     "shell.execute_reply": "2023-12-20T11:55:04.808455Z"
    },
    "papermill": {
     "duration": 0.820997,
     "end_time": "2023-12-20T11:55:04.811702",
     "exception": false,
     "start_time": "2023-12-20T11:55:03.990705",
     "status": "completed"
    },
    "tags": []
   },
   "outputs": [],
   "source": [
    "df_x5 = df_x[df_x5_column]\n",
    "val_y5 = val_y\n",
    "df_x4 = df_x[df_x4_column]\n",
    "val_y4 = val_y"
   ]
  },
  {
   "cell_type": "code",
   "execution_count": 12,
   "id": "9e347e29",
   "metadata": {
    "execution": {
     "iopub.execute_input": "2023-12-20T11:55:04.826452Z",
     "iopub.status.busy": "2023-12-20T11:55:04.826137Z",
     "iopub.status.idle": "2023-12-20T11:55:04.832708Z",
     "shell.execute_reply": "2023-12-20T11:55:04.831845Z"
    },
    "papermill": {
     "duration": 0.016026,
     "end_time": "2023-12-20T11:55:04.834554",
     "exception": false,
     "start_time": "2023-12-20T11:55:04.818528",
     "status": "completed"
    },
    "tags": []
   },
   "outputs": [
    {
     "data": {
      "text/plain": [
       "74"
      ]
     },
     "execution_count": 12,
     "metadata": {},
     "output_type": "execute_result"
    }
   ],
   "source": [
    "len(df_x.columns)"
   ]
  },
  {
   "cell_type": "code",
   "execution_count": 13,
   "id": "748e8973",
   "metadata": {
    "execution": {
     "iopub.execute_input": "2023-12-20T11:55:04.849856Z",
     "iopub.status.busy": "2023-12-20T11:55:04.849572Z",
     "iopub.status.idle": "2023-12-20T11:59:03.565978Z",
     "shell.execute_reply": "2023-12-20T11:59:03.564917Z"
    },
    "papermill": {
     "duration": 238.733336,
     "end_time": "2023-12-20T11:59:03.575432",
     "exception": false,
     "start_time": "2023-12-20T11:55:04.842096",
     "status": "completed"
    },
    "tags": []
   },
   "outputs": [
    {
     "data": {
      "text/html": [
       "<style>#sk-container-id-1 {color: black;background-color: white;}#sk-container-id-1 pre{padding: 0;}#sk-container-id-1 div.sk-toggleable {background-color: white;}#sk-container-id-1 label.sk-toggleable__label {cursor: pointer;display: block;width: 100%;margin-bottom: 0;padding: 0.3em;box-sizing: border-box;text-align: center;}#sk-container-id-1 label.sk-toggleable__label-arrow:before {content: \"▸\";float: left;margin-right: 0.25em;color: #696969;}#sk-container-id-1 label.sk-toggleable__label-arrow:hover:before {color: black;}#sk-container-id-1 div.sk-estimator:hover label.sk-toggleable__label-arrow:before {color: black;}#sk-container-id-1 div.sk-toggleable__content {max-height: 0;max-width: 0;overflow: hidden;text-align: left;background-color: #f0f8ff;}#sk-container-id-1 div.sk-toggleable__content pre {margin: 0.2em;color: black;border-radius: 0.25em;background-color: #f0f8ff;}#sk-container-id-1 input.sk-toggleable__control:checked~div.sk-toggleable__content {max-height: 200px;max-width: 100%;overflow: auto;}#sk-container-id-1 input.sk-toggleable__control:checked~label.sk-toggleable__label-arrow:before {content: \"▾\";}#sk-container-id-1 div.sk-estimator input.sk-toggleable__control:checked~label.sk-toggleable__label {background-color: #d4ebff;}#sk-container-id-1 div.sk-label input.sk-toggleable__control:checked~label.sk-toggleable__label {background-color: #d4ebff;}#sk-container-id-1 input.sk-hidden--visually {border: 0;clip: rect(1px 1px 1px 1px);clip: rect(1px, 1px, 1px, 1px);height: 1px;margin: -1px;overflow: hidden;padding: 0;position: absolute;width: 1px;}#sk-container-id-1 div.sk-estimator {font-family: monospace;background-color: #f0f8ff;border: 1px dotted black;border-radius: 0.25em;box-sizing: border-box;margin-bottom: 0.5em;}#sk-container-id-1 div.sk-estimator:hover {background-color: #d4ebff;}#sk-container-id-1 div.sk-parallel-item::after {content: \"\";width: 100%;border-bottom: 1px solid gray;flex-grow: 1;}#sk-container-id-1 div.sk-label:hover label.sk-toggleable__label {background-color: #d4ebff;}#sk-container-id-1 div.sk-serial::before {content: \"\";position: absolute;border-left: 1px solid gray;box-sizing: border-box;top: 0;bottom: 0;left: 50%;z-index: 0;}#sk-container-id-1 div.sk-serial {display: flex;flex-direction: column;align-items: center;background-color: white;padding-right: 0.2em;padding-left: 0.2em;position: relative;}#sk-container-id-1 div.sk-item {position: relative;z-index: 1;}#sk-container-id-1 div.sk-parallel {display: flex;align-items: stretch;justify-content: center;background-color: white;position: relative;}#sk-container-id-1 div.sk-item::before, #sk-container-id-1 div.sk-parallel-item::before {content: \"\";position: absolute;border-left: 1px solid gray;box-sizing: border-box;top: 0;bottom: 0;left: 50%;z-index: -1;}#sk-container-id-1 div.sk-parallel-item {display: flex;flex-direction: column;z-index: 1;position: relative;background-color: white;}#sk-container-id-1 div.sk-parallel-item:first-child::after {align-self: flex-end;width: 50%;}#sk-container-id-1 div.sk-parallel-item:last-child::after {align-self: flex-start;width: 50%;}#sk-container-id-1 div.sk-parallel-item:only-child::after {width: 0;}#sk-container-id-1 div.sk-dashed-wrapped {border: 1px dashed gray;margin: 0 0.4em 0.5em 0.4em;box-sizing: border-box;padding-bottom: 0.4em;background-color: white;}#sk-container-id-1 div.sk-label label {font-family: monospace;font-weight: bold;display: inline-block;line-height: 1.2em;}#sk-container-id-1 div.sk-label-container {text-align: center;}#sk-container-id-1 div.sk-container {/* jupyter's `normalize.less` sets `[hidden] { display: none; }` but bootstrap.min.css set `[hidden] { display: none !important; }` so we also need the `!important` here to be able to override the default hidden behavior on the sphinx rendered scikit-learn.org. See: https://github.com/scikit-learn/scikit-learn/issues/21755 */display: inline-block !important;position: relative;}#sk-container-id-1 div.sk-text-repr-fallback {display: none;}</style><div id=\"sk-container-id-1\" class=\"sk-top-container\"><div class=\"sk-text-repr-fallback\"><pre>LGBMRegressor(device=&#x27;gpu&#x27;, learning_rate=0.01, n_estimators=500,\n",
       "              num_leaves=256, objective=&#x27;mae&#x27;, random_state=1234,\n",
       "              subsample=0.75)</pre><b>In a Jupyter environment, please rerun this cell to show the HTML representation or trust the notebook. <br />On GitHub, the HTML representation is unable to render, please try loading this page with nbviewer.org.</b></div><div class=\"sk-container\" hidden><div class=\"sk-item\"><div class=\"sk-estimator sk-toggleable\"><input class=\"sk-toggleable__control sk-hidden--visually\" id=\"sk-estimator-id-1\" type=\"checkbox\" checked><label for=\"sk-estimator-id-1\" class=\"sk-toggleable__label sk-toggleable__label-arrow\">LGBMRegressor</label><div class=\"sk-toggleable__content\"><pre>LGBMRegressor(device=&#x27;gpu&#x27;, learning_rate=0.01, n_estimators=500,\n",
       "              num_leaves=256, objective=&#x27;mae&#x27;, random_state=1234,\n",
       "              subsample=0.75)</pre></div></div></div></div></div>"
      ],
      "text/plain": [
       "LGBMRegressor(device='gpu', learning_rate=0.01, n_estimators=500,\n",
       "              num_leaves=256, objective='mae', random_state=1234,\n",
       "              subsample=0.75)"
      ]
     },
     "execution_count": 13,
     "metadata": {},
     "output_type": "execute_result"
    }
   ],
   "source": [
    "model = lgbm.LGBMRegressor(learning_rate = 0.01 , max_depth = -1,device = \"gpu\", random_state=1234 , objective='mae', n_estimators=500,num_leaves = 256,subsample = 0.75)\n",
    "#model6 = lgbm.LGBMRegressor(learning_rate = 0.5 , max_depth = 1 , random_state=1234 , objective='mae', n_estimators=2,num_leaves = 2,subsample = 0.75)\n",
    "model.fit(df_x, val_y)"
   ]
  },
  {
   "cell_type": "code",
   "execution_count": 14,
   "id": "675e037a",
   "metadata": {
    "execution": {
     "iopub.execute_input": "2023-12-20T11:59:03.590802Z",
     "iopub.status.busy": "2023-12-20T11:59:03.590496Z",
     "iopub.status.idle": "2023-12-20T12:02:46.641241Z",
     "shell.execute_reply": "2023-12-20T12:02:46.640250Z"
    },
    "papermill": {
     "duration": 223.06799,
     "end_time": "2023-12-20T12:02:46.650608",
     "exception": false,
     "start_time": "2023-12-20T11:59:03.582618",
     "status": "completed"
    },
    "tags": []
   },
   "outputs": [
    {
     "data": {
      "text/html": [
       "<style>#sk-container-id-2 {color: black;background-color: white;}#sk-container-id-2 pre{padding: 0;}#sk-container-id-2 div.sk-toggleable {background-color: white;}#sk-container-id-2 label.sk-toggleable__label {cursor: pointer;display: block;width: 100%;margin-bottom: 0;padding: 0.3em;box-sizing: border-box;text-align: center;}#sk-container-id-2 label.sk-toggleable__label-arrow:before {content: \"▸\";float: left;margin-right: 0.25em;color: #696969;}#sk-container-id-2 label.sk-toggleable__label-arrow:hover:before {color: black;}#sk-container-id-2 div.sk-estimator:hover label.sk-toggleable__label-arrow:before {color: black;}#sk-container-id-2 div.sk-toggleable__content {max-height: 0;max-width: 0;overflow: hidden;text-align: left;background-color: #f0f8ff;}#sk-container-id-2 div.sk-toggleable__content pre {margin: 0.2em;color: black;border-radius: 0.25em;background-color: #f0f8ff;}#sk-container-id-2 input.sk-toggleable__control:checked~div.sk-toggleable__content {max-height: 200px;max-width: 100%;overflow: auto;}#sk-container-id-2 input.sk-toggleable__control:checked~label.sk-toggleable__label-arrow:before {content: \"▾\";}#sk-container-id-2 div.sk-estimator input.sk-toggleable__control:checked~label.sk-toggleable__label {background-color: #d4ebff;}#sk-container-id-2 div.sk-label input.sk-toggleable__control:checked~label.sk-toggleable__label {background-color: #d4ebff;}#sk-container-id-2 input.sk-hidden--visually {border: 0;clip: rect(1px 1px 1px 1px);clip: rect(1px, 1px, 1px, 1px);height: 1px;margin: -1px;overflow: hidden;padding: 0;position: absolute;width: 1px;}#sk-container-id-2 div.sk-estimator {font-family: monospace;background-color: #f0f8ff;border: 1px dotted black;border-radius: 0.25em;box-sizing: border-box;margin-bottom: 0.5em;}#sk-container-id-2 div.sk-estimator:hover {background-color: #d4ebff;}#sk-container-id-2 div.sk-parallel-item::after {content: \"\";width: 100%;border-bottom: 1px solid gray;flex-grow: 1;}#sk-container-id-2 div.sk-label:hover label.sk-toggleable__label {background-color: #d4ebff;}#sk-container-id-2 div.sk-serial::before {content: \"\";position: absolute;border-left: 1px solid gray;box-sizing: border-box;top: 0;bottom: 0;left: 50%;z-index: 0;}#sk-container-id-2 div.sk-serial {display: flex;flex-direction: column;align-items: center;background-color: white;padding-right: 0.2em;padding-left: 0.2em;position: relative;}#sk-container-id-2 div.sk-item {position: relative;z-index: 1;}#sk-container-id-2 div.sk-parallel {display: flex;align-items: stretch;justify-content: center;background-color: white;position: relative;}#sk-container-id-2 div.sk-item::before, #sk-container-id-2 div.sk-parallel-item::before {content: \"\";position: absolute;border-left: 1px solid gray;box-sizing: border-box;top: 0;bottom: 0;left: 50%;z-index: -1;}#sk-container-id-2 div.sk-parallel-item {display: flex;flex-direction: column;z-index: 1;position: relative;background-color: white;}#sk-container-id-2 div.sk-parallel-item:first-child::after {align-self: flex-end;width: 50%;}#sk-container-id-2 div.sk-parallel-item:last-child::after {align-self: flex-start;width: 50%;}#sk-container-id-2 div.sk-parallel-item:only-child::after {width: 0;}#sk-container-id-2 div.sk-dashed-wrapped {border: 1px dashed gray;margin: 0 0.4em 0.5em 0.4em;box-sizing: border-box;padding-bottom: 0.4em;background-color: white;}#sk-container-id-2 div.sk-label label {font-family: monospace;font-weight: bold;display: inline-block;line-height: 1.2em;}#sk-container-id-2 div.sk-label-container {text-align: center;}#sk-container-id-2 div.sk-container {/* jupyter's `normalize.less` sets `[hidden] { display: none; }` but bootstrap.min.css set `[hidden] { display: none !important; }` so we also need the `!important` here to be able to override the default hidden behavior on the sphinx rendered scikit-learn.org. See: https://github.com/scikit-learn/scikit-learn/issues/21755 */display: inline-block !important;position: relative;}#sk-container-id-2 div.sk-text-repr-fallback {display: none;}</style><div id=\"sk-container-id-2\" class=\"sk-top-container\"><div class=\"sk-text-repr-fallback\"><pre>LGBMRegressor(device=&#x27;gpu&#x27;, learning_rate=0.01, n_estimators=500,\n",
       "              num_leaves=256, objective=&#x27;mae&#x27;, random_state=1234,\n",
       "              subsample=0.75)</pre><b>In a Jupyter environment, please rerun this cell to show the HTML representation or trust the notebook. <br />On GitHub, the HTML representation is unable to render, please try loading this page with nbviewer.org.</b></div><div class=\"sk-container\" hidden><div class=\"sk-item\"><div class=\"sk-estimator sk-toggleable\"><input class=\"sk-toggleable__control sk-hidden--visually\" id=\"sk-estimator-id-2\" type=\"checkbox\" checked><label for=\"sk-estimator-id-2\" class=\"sk-toggleable__label sk-toggleable__label-arrow\">LGBMRegressor</label><div class=\"sk-toggleable__content\"><pre>LGBMRegressor(device=&#x27;gpu&#x27;, learning_rate=0.01, n_estimators=500,\n",
       "              num_leaves=256, objective=&#x27;mae&#x27;, random_state=1234,\n",
       "              subsample=0.75)</pre></div></div></div></div></div>"
      ],
      "text/plain": [
       "LGBMRegressor(device='gpu', learning_rate=0.01, n_estimators=500,\n",
       "              num_leaves=256, objective='mae', random_state=1234,\n",
       "              subsample=0.75)"
      ]
     },
     "execution_count": 14,
     "metadata": {},
     "output_type": "execute_result"
    }
   ],
   "source": [
    "model5 = lgbm.LGBMRegressor(learning_rate = 0.01 , max_depth = -1,device = \"gpu\", random_state=1234 , objective='mae', n_estimators=500,num_leaves = 256,subsample = 0.75)\n",
    "#model7 = lgbm.LGBMRegressor(learning_rate = 0.5 , max_depth = 1, random_state=1234 , objective='mae', n_estimators=2,num_leaves = 2,subsample = 0.75)\n",
    "model5.fit(df_x5, val_y5)"
   ]
  },
  {
   "cell_type": "code",
   "execution_count": 15,
   "id": "496ddd89",
   "metadata": {
    "execution": {
     "iopub.execute_input": "2023-12-20T12:02:46.665976Z",
     "iopub.status.busy": "2023-12-20T12:02:46.665645Z",
     "iopub.status.idle": "2023-12-20T12:06:29.067335Z",
     "shell.execute_reply": "2023-12-20T12:06:29.066441Z"
    },
    "papermill": {
     "duration": 222.419417,
     "end_time": "2023-12-20T12:06:29.077124",
     "exception": false,
     "start_time": "2023-12-20T12:02:46.657707",
     "status": "completed"
    },
    "tags": []
   },
   "outputs": [
    {
     "data": {
      "text/html": [
       "<style>#sk-container-id-3 {color: black;background-color: white;}#sk-container-id-3 pre{padding: 0;}#sk-container-id-3 div.sk-toggleable {background-color: white;}#sk-container-id-3 label.sk-toggleable__label {cursor: pointer;display: block;width: 100%;margin-bottom: 0;padding: 0.3em;box-sizing: border-box;text-align: center;}#sk-container-id-3 label.sk-toggleable__label-arrow:before {content: \"▸\";float: left;margin-right: 0.25em;color: #696969;}#sk-container-id-3 label.sk-toggleable__label-arrow:hover:before {color: black;}#sk-container-id-3 div.sk-estimator:hover label.sk-toggleable__label-arrow:before {color: black;}#sk-container-id-3 div.sk-toggleable__content {max-height: 0;max-width: 0;overflow: hidden;text-align: left;background-color: #f0f8ff;}#sk-container-id-3 div.sk-toggleable__content pre {margin: 0.2em;color: black;border-radius: 0.25em;background-color: #f0f8ff;}#sk-container-id-3 input.sk-toggleable__control:checked~div.sk-toggleable__content {max-height: 200px;max-width: 100%;overflow: auto;}#sk-container-id-3 input.sk-toggleable__control:checked~label.sk-toggleable__label-arrow:before {content: \"▾\";}#sk-container-id-3 div.sk-estimator input.sk-toggleable__control:checked~label.sk-toggleable__label {background-color: #d4ebff;}#sk-container-id-3 div.sk-label input.sk-toggleable__control:checked~label.sk-toggleable__label {background-color: #d4ebff;}#sk-container-id-3 input.sk-hidden--visually {border: 0;clip: rect(1px 1px 1px 1px);clip: rect(1px, 1px, 1px, 1px);height: 1px;margin: -1px;overflow: hidden;padding: 0;position: absolute;width: 1px;}#sk-container-id-3 div.sk-estimator {font-family: monospace;background-color: #f0f8ff;border: 1px dotted black;border-radius: 0.25em;box-sizing: border-box;margin-bottom: 0.5em;}#sk-container-id-3 div.sk-estimator:hover {background-color: #d4ebff;}#sk-container-id-3 div.sk-parallel-item::after {content: \"\";width: 100%;border-bottom: 1px solid gray;flex-grow: 1;}#sk-container-id-3 div.sk-label:hover label.sk-toggleable__label {background-color: #d4ebff;}#sk-container-id-3 div.sk-serial::before {content: \"\";position: absolute;border-left: 1px solid gray;box-sizing: border-box;top: 0;bottom: 0;left: 50%;z-index: 0;}#sk-container-id-3 div.sk-serial {display: flex;flex-direction: column;align-items: center;background-color: white;padding-right: 0.2em;padding-left: 0.2em;position: relative;}#sk-container-id-3 div.sk-item {position: relative;z-index: 1;}#sk-container-id-3 div.sk-parallel {display: flex;align-items: stretch;justify-content: center;background-color: white;position: relative;}#sk-container-id-3 div.sk-item::before, #sk-container-id-3 div.sk-parallel-item::before {content: \"\";position: absolute;border-left: 1px solid gray;box-sizing: border-box;top: 0;bottom: 0;left: 50%;z-index: -1;}#sk-container-id-3 div.sk-parallel-item {display: flex;flex-direction: column;z-index: 1;position: relative;background-color: white;}#sk-container-id-3 div.sk-parallel-item:first-child::after {align-self: flex-end;width: 50%;}#sk-container-id-3 div.sk-parallel-item:last-child::after {align-self: flex-start;width: 50%;}#sk-container-id-3 div.sk-parallel-item:only-child::after {width: 0;}#sk-container-id-3 div.sk-dashed-wrapped {border: 1px dashed gray;margin: 0 0.4em 0.5em 0.4em;box-sizing: border-box;padding-bottom: 0.4em;background-color: white;}#sk-container-id-3 div.sk-label label {font-family: monospace;font-weight: bold;display: inline-block;line-height: 1.2em;}#sk-container-id-3 div.sk-label-container {text-align: center;}#sk-container-id-3 div.sk-container {/* jupyter's `normalize.less` sets `[hidden] { display: none; }` but bootstrap.min.css set `[hidden] { display: none !important; }` so we also need the `!important` here to be able to override the default hidden behavior on the sphinx rendered scikit-learn.org. See: https://github.com/scikit-learn/scikit-learn/issues/21755 */display: inline-block !important;position: relative;}#sk-container-id-3 div.sk-text-repr-fallback {display: none;}</style><div id=\"sk-container-id-3\" class=\"sk-top-container\"><div class=\"sk-text-repr-fallback\"><pre>LGBMRegressor(device=&#x27;gpu&#x27;, learning_rate=0.01, n_estimators=500,\n",
       "              num_leaves=256, objective=&#x27;mae&#x27;, random_state=1234,\n",
       "              subsample=0.75)</pre><b>In a Jupyter environment, please rerun this cell to show the HTML representation or trust the notebook. <br />On GitHub, the HTML representation is unable to render, please try loading this page with nbviewer.org.</b></div><div class=\"sk-container\" hidden><div class=\"sk-item\"><div class=\"sk-estimator sk-toggleable\"><input class=\"sk-toggleable__control sk-hidden--visually\" id=\"sk-estimator-id-3\" type=\"checkbox\" checked><label for=\"sk-estimator-id-3\" class=\"sk-toggleable__label sk-toggleable__label-arrow\">LGBMRegressor</label><div class=\"sk-toggleable__content\"><pre>LGBMRegressor(device=&#x27;gpu&#x27;, learning_rate=0.01, n_estimators=500,\n",
       "              num_leaves=256, objective=&#x27;mae&#x27;, random_state=1234,\n",
       "              subsample=0.75)</pre></div></div></div></div></div>"
      ],
      "text/plain": [
       "LGBMRegressor(device='gpu', learning_rate=0.01, n_estimators=500,\n",
       "              num_leaves=256, objective='mae', random_state=1234,\n",
       "              subsample=0.75)"
      ]
     },
     "execution_count": 15,
     "metadata": {},
     "output_type": "execute_result"
    }
   ],
   "source": [
    "model4 = lgbm.LGBMRegressor(learning_rate = 0.01 , max_depth = -1,device = \"gpu\", random_state=1234 , objective='mae', n_estimators=500,num_leaves = 256,subsample = 0.75)\n",
    "#model8 = lgbm.LGBMRegressor(learning_rate = 0.5 , max_depth = 1, random_state=1234 , objective='mae', n_estimators=2,num_leaves = 2,subsample = 0.75)\n",
    "model4.fit(df_x4, val_y4)"
   ]
  },
  {
   "cell_type": "markdown",
   "id": "e9d59ec5",
   "metadata": {
    "papermill": {
     "duration": 0.007149,
     "end_time": "2023-12-20T12:06:29.091806",
     "exception": false,
     "start_time": "2023-12-20T12:06:29.084657",
     "status": "completed"
    },
    "tags": []
   },
   "source": [
    "df_test"
   ]
  },
  {
   "cell_type": "code",
   "execution_count": 16,
   "id": "1d758c98",
   "metadata": {
    "execution": {
     "iopub.execute_input": "2023-12-20T12:06:29.109286Z",
     "iopub.status.busy": "2023-12-20T12:06:29.108898Z",
     "iopub.status.idle": "2023-12-20T12:06:29.128121Z",
     "shell.execute_reply": "2023-12-20T12:06:29.127161Z"
    },
    "papermill": {
     "duration": 0.030478,
     "end_time": "2023-12-20T12:06:29.130288",
     "exception": false,
     "start_time": "2023-12-20T12:06:29.099810",
     "status": "completed"
    },
    "tags": []
   },
   "outputs": [],
   "source": [
    "def test_fun(df , x):\n",
    "\n",
    "    df = df.fillna(0.000000001)\n",
    "    \n",
    "    df['pressure'] = df['imbalance_size']*df['imbalance_buy_sell_flag']\n",
    "    df['bid_ask_size_gap'] = (df['bid_size'] - df['ask_size']) / (df['bid_size'] + df['ask_size'] + 0.000001)\n",
    "    df['power0'] = (df['matched_size'] + df['pressure']) / (df['matched_size'] + abs(df['pressure']) + 0.000001)\n",
    "    df['power1'] = (df['matched_size'] + df['pressure'] + df['bid_size'] - df['ask_size']) / (df['matched_size'] + df['pressure'] + df['bid_size'] + df['ask_size'] + 0.000001)\n",
    "\n",
    "    df = df.drop(['imbalance_size','imbalance_buy_sell_flag'] , axis = 1)\n",
    "    \n",
    "    #tiem series\n",
    "    column = ['reference_price' ,'ask_size','bid_size','pressure','ask_price','bid_price','matched_size']\n",
    "    \n",
    "    shift_list = []\n",
    "    for i in range(1, x+1):\n",
    "        shift_list.append(i)\n",
    "    \n",
    "    for c in column:\n",
    "        gv = df[[\"stock_id\", \"date_id\", c]].groupby([\"stock_id\",\"date_id\"])\n",
    "        for s in shift_list:\n",
    "            df[c + '_' + str(s)] = gv.shift(s)\n",
    "        df[c + '_' + str(0)] = df[c]\n",
    "        df = df.drop([c] , axis = 1)\n",
    "    \n",
    "    # feaeture setting\n",
    "    \n",
    "    column1 = ['ask_size','ask_price']\n",
    "    for c in column1:\n",
    "        for i in range(0,x+1):\n",
    "            df['neg' + '_' + c + '_' + str(i)] = -df[c + '_' + str(i)]\n",
    "            df = df.drop([c + '_' + str(i)] , axis = 1)\n",
    "    for c in column1:\n",
    "        for i in range(0,x+1):\n",
    "            df[c + '_' + str(i)] = df['neg' + '_' + c + '_' + str(i)]\n",
    "            df = df.drop(['neg' + '_' + c + '_' + str(i)], axis = 1)\n",
    "    \n",
    "    for i in range(0,x):\n",
    "        j = i+1\n",
    "        df['reference_price_deri_' + str(i)] = df['reference_price_' + str(i)] - df['reference_price_' + str(j)]\n",
    "    for i in range(0, x+1):\n",
    "        df = df.drop(['reference_price_' + str(i)] , axis = 1)\n",
    "    \n",
    "    for i in range(0,x):\n",
    "        df['reference_price_' + str(i)] = df['reference_price_deri_' + str(i)]\n",
    "    for i in range(0,x):\n",
    "        df = df.drop(['reference_price_deri_' + str(i)] , axis = 1)\n",
    "\n",
    "    #feature generating\n",
    "    \n",
    "    split_column1 = ['ask_size','bid_size','pressure']\n",
    "    \n",
    "    day = []\n",
    "    for i in range(0, x+1):\n",
    "        day.append(i)\n",
    "    \n",
    "    for i in range(0, len(split_column1)):\n",
    "        for j in range(0, len(split_column1)):\n",
    "            for d in day:\n",
    "                if i < j and i != j:\n",
    "                    df[split_column1[i] + '_' + split_column1[j] + '_' + str(d)] = df[split_column1[i] + '_' + str(d)] + df[split_column1[j] + '_' + str(d)]\n",
    "                    \n",
    "    \n",
    "    for i in range(0,6):\n",
    "        df['sign_' + str(i)] = df['reference_price_' + str(i)]*df['matched_size_' + str(i)]\n",
    "        df = df.drop(['matched_size_' + str(i)] , axis = 1)\n",
    "    \n",
    "    df = df.drop(['date_id' , 'wap'] , axis = 1)\n",
    "    \n",
    "\n",
    "    df = df.fillna(0.000000001)    \n",
    "    \n",
    "\n",
    "    return df"
   ]
  },
  {
   "cell_type": "markdown",
   "id": "e2dc6d66",
   "metadata": {
    "papermill": {
     "duration": 0.007136,
     "end_time": "2023-12-20T12:06:29.145104",
     "exception": false,
     "start_time": "2023-12-20T12:06:29.137968",
     "status": "completed"
    },
    "tags": []
   },
   "source": [
    "제출"
   ]
  },
  {
   "cell_type": "code",
   "execution_count": 17,
   "id": "74468cf7",
   "metadata": {
    "execution": {
     "iopub.execute_input": "2023-12-20T12:06:29.161563Z",
     "iopub.status.busy": "2023-12-20T12:06:29.161185Z",
     "iopub.status.idle": "2023-12-20T12:06:29.390792Z",
     "shell.execute_reply": "2023-12-20T12:06:29.389940Z"
    },
    "papermill": {
     "duration": 0.240556,
     "end_time": "2023-12-20T12:06:29.393208",
     "exception": false,
     "start_time": "2023-12-20T12:06:29.152652",
     "status": "completed"
    },
    "tags": []
   },
   "outputs": [],
   "source": [
    "test_column = ['stock_id', 'date_id', 'seconds_in_bucket', 'imbalance_size',\n",
    "       'imbalance_buy_sell_flag', 'reference_price', 'matched_size',\n",
    "       'bid_price', 'bid_size', 'ask_price','ask_size', 'wap']\n",
    "\n",
    "df_pro = df_train[test_column]\n",
    "df_pro = df_pro.iloc[:][-4000:]"
   ]
  },
  {
   "cell_type": "code",
   "execution_count": 18,
   "id": "38621836",
   "metadata": {
    "execution": {
     "iopub.execute_input": "2023-12-20T12:06:29.410084Z",
     "iopub.status.busy": "2023-12-20T12:06:29.409727Z",
     "iopub.status.idle": "2023-12-20T12:06:29.438299Z",
     "shell.execute_reply": "2023-12-20T12:06:29.437538Z"
    },
    "papermill": {
     "duration": 0.03953,
     "end_time": "2023-12-20T12:06:29.440639",
     "exception": false,
     "start_time": "2023-12-20T12:06:29.401109",
     "status": "completed"
    },
    "tags": []
   },
   "outputs": [],
   "source": [
    "import optiver2023\n",
    "optiver2023.make_env.func_dict['__called__'] = False\n",
    "env = optiver2023.make_env()\n",
    "iter_test = env.iter_test()"
   ]
  },
  {
   "cell_type": "code",
   "execution_count": 19,
   "id": "c0f6b875",
   "metadata": {
    "execution": {
     "iopub.execute_input": "2023-12-20T12:06:29.457394Z",
     "iopub.status.busy": "2023-12-20T12:06:29.457055Z",
     "iopub.status.idle": "2023-12-20T12:06:30.210954Z",
     "shell.execute_reply": "2023-12-20T12:06:30.209979Z"
    },
    "papermill": {
     "duration": 0.764852,
     "end_time": "2023-12-20T12:06:30.213151",
     "exception": false,
     "start_time": "2023-12-20T12:06:29.448299",
     "status": "completed"
    },
    "tags": []
   },
   "outputs": [
    {
     "name": "stdout",
     "output_type": "stream",
     "text": [
      "This version of the API is not optimized and should not be used to estimate the runtime of your code on the hidden test set.\n"
     ]
    },
    {
     "data": {
      "text/plain": [
       "0"
      ]
     },
     "execution_count": 19,
     "metadata": {},
     "output_type": "execute_result"
    }
   ],
   "source": [
    "cnt = 0\n",
    "for (test, revealed_targets, sample_prediction) in iter_test:\n",
    "    \n",
    "    if test.iloc[0]['currently_scored'] == False:\n",
    "       sample_prediction['target'] = 0\n",
    "       env.predict(sample_prediction)\n",
    "       continue\n",
    "\n",
    "    test_pro = test[test_column]\n",
    "    df_pro = pd.concat([df_pro , test_pro] , axis = 0)\n",
    "    \n",
    "    test_pro = test_fun(df_pro , 6)\n",
    "    test_pro5 = test_pro[df_x5.columns]\n",
    "    test_pro4 = test_pro[df_x4.columns]\n",
    "\n",
    "    test_pro = test_pro.iloc[:][-len(test):]\n",
    "    test_pro5 = test_pro5.iloc[:][-len(test):]\n",
    "    test_pro4 = test_pro4.iloc[:][-len(test):]\n",
    "\n",
    "    pred6 = model.predict(test_pro)\n",
    "    pred5 = model5.predict(test_pro5)\n",
    "    pred4 = model4.predict(test_pro4)\n",
    "    \n",
    "    pred6 = pred6.reshape(len(test),1) \n",
    "    pred5 = pred5.reshape(len(test),1) \n",
    "    pred4 = pred4.reshape(len(test),1) \n",
    "    \n",
    "    pred = (pred5 + pred6 + pred4)/3\n",
    "    \n",
    "    #if cnt >= 0 and cnt <= 1:\n",
    "    #    print(pred)\n",
    "    \n",
    "    sample_prediction['target'] = pred\n",
    "    env.predict(sample_prediction)\n",
    "    cnt += 1\n",
    "\n",
    "cnt"
   ]
  },
  {
   "cell_type": "code",
   "execution_count": 20,
   "id": "07ffe5aa",
   "metadata": {
    "execution": {
     "iopub.execute_input": "2023-12-20T12:06:30.230850Z",
     "iopub.status.busy": "2023-12-20T12:06:30.230488Z",
     "iopub.status.idle": "2023-12-20T12:06:31.197963Z",
     "shell.execute_reply": "2023-12-20T12:06:31.196722Z"
    },
    "papermill": {
     "duration": 0.979226,
     "end_time": "2023-12-20T12:06:31.200477",
     "exception": false,
     "start_time": "2023-12-20T12:06:30.221251",
     "status": "completed"
    },
    "tags": []
   },
   "outputs": [
    {
     "name": "stdout",
     "output_type": "stream",
     "text": [
      "row_id,target\r\n",
      "478_0_0,0\r\n",
      "478_0_1,0\r\n",
      "478_0_2,0\r\n",
      "478_0_3,0\r\n",
      "478_0_4,0\r\n",
      "478_0_5,0\r\n",
      "478_0_6,0\r\n",
      "478_0_7,0\r\n",
      "478_0_8,0\r\n"
     ]
    }
   ],
   "source": [
    "!head submission.csv"
   ]
  }
 ],
 "metadata": {
  "kaggle": {
   "accelerator": "gpu",
   "dataSources": [
    {
     "databundleVersionId": 7056235,
     "sourceId": 57891,
     "sourceType": "competition"
    }
   ],
   "dockerImageVersionId": 30580,
   "isGpuEnabled": true,
   "isInternetEnabled": false,
   "language": "python",
   "sourceType": "notebook"
  },
  "kernelspec": {
   "display_name": "Python 3",
   "language": "python",
   "name": "python3"
  },
  "language_info": {
   "codemirror_mode": {
    "name": "ipython",
    "version": 3
   },
   "file_extension": ".py",
   "mimetype": "text/x-python",
   "name": "python",
   "nbconvert_exporter": "python",
   "pygments_lexer": "ipython3",
   "version": "3.10.12"
  },
  "papermill": {
   "default_parameters": {},
   "duration": 775.097688,
   "end_time": "2023-12-20T12:06:33.912768",
   "environment_variables": {},
   "exception": null,
   "input_path": "__notebook__.ipynb",
   "output_path": "__notebook__.ipynb",
   "parameters": {},
   "start_time": "2023-12-20T11:53:38.815080",
   "version": "2.4.0"
  }
 },
 "nbformat": 4,
 "nbformat_minor": 5
}
